{
 "cells": [
  {
   "cell_type": "code",
   "execution_count": 4,
   "metadata": {},
   "outputs": [],
   "source": [
    "import numpy as np\n",
    "import pandas as pd \n",
    "import matplotlib.pyplot as plt \n",
    "import tensorflow as tf \n",
    "%matplotlib inline "
   ]
  },
  {
   "cell_type": "code",
   "execution_count": 9,
   "metadata": {},
   "outputs": [
    {
     "data": {
      "text/plain": [
       "<matplotlib.axes._subplots.AxesSubplot at 0x182c277a90>"
      ]
     },
     "execution_count": 9,
     "metadata": {},
     "output_type": "execute_result"
    },
    {
     "data": {
      "image/png": "[encoded data removed]",
      "text/plain": [
       "<matplotlib.figure.Figure at 0x182cba6128>"
      ]
     },
     "metadata": {},
     "output_type": "display_data"
    }
   ],
   "source": [
    "x_data=np.linspace(0,10,1000000)\n",
    "noise=np.random.randn(len(x_data),)\n",
    "\n",
    "y_true=(0.5*x_data)+5+noise\n",
    "\n",
    "x_df=pd.DataFrame(data=x_data,columns=['X data'])\n",
    "y_df=pd.DataFrame(data=y_true,columns=['Y true'])\n",
    "\n",
    "my_df=pd.concat([x_df,y_df],axis=1)\n",
    "my_df.head()\n",
    "\n",
    "my_df.sample(250).plot(x='X data',y='Y true',kind='scatter')\n",
    "\n",
    "\n",
    "#plt.plot(x_data,y_true)"
   ]
  },
  {
   "cell_type": "code",
   "execution_count": 11,
   "metadata": {},
   "outputs": [],
   "source": [
    "feat_cols=[tf.feature_column.numeric_column('x',shape=[1])]"
   ]
  },
  {
   "cell_type": "code",
   "execution_count": 12,
   "metadata": {},
   "outputs": [
    {
     "name": "stdout",
     "output_type": "stream",
     "text": [
      "INFO:tensorflow:Using default config.\n",
      "WARNING:tensorflow:Using temporary folder as model directory: /var/folders/6x/yc_cph6n1g7_j3sqvv0tgrx40000gn/T/tmpnlr_jynv\n",
      "INFO:tensorflow:Using config: {'_model_dir': '/var/folders/6x/yc_cph6n1g7_j3sqvv0tgrx40000gn/T/tmpnlr_jynv', '_tf_random_seed': None, '_save_summary_steps': 100, '_save_checkpoints_steps': None, '_save_checkpoints_secs': 600, '_session_config': None, '_keep_checkpoint_max': 5, '_keep_checkpoint_every_n_hours': 10000, '_log_step_count_steps': 100, '_service': None, '_cluster_spec': <tensorflow.python.training.server_lib.ClusterSpec object at 0x182cac8710>, '_task_type': 'worker', '_task_id': 0, '_master': '', '_is_chief': True, '_num_ps_replicas': 0, '_num_worker_replicas': 1}\n"
     ]
    }
   ],
   "source": [
    "estimator=tf.estimator.LinearRegressor(feat_cols)"
   ]
  },
  {
   "cell_type": "code",
   "execution_count": 16,
   "metadata": {},
   "outputs": [],
   "source": [
    "from sklearn.model_selection import train_test_split\n",
    "\n",
    "x_train,x_eval,y_train,y_eval=train_test_split(x_data,y_true,test_size=0.3,random_state=101)\n",
    "\n",
    "\n",
    "input_func=tf.estimator.inputs.numpy_input_fn({'x':x_train},y_train,batch_size=10,num_epochs=None,shuffle=True)\n",
    "train_input_func=tf.estimator.inputs.numpy_input_fn({'x':x_train},y_train,batch_size=10,num_epochs=1000,shuffle=False)\n",
    "test_input_func=tf.estimator.inputs.numpy_input_fn({'x':x_eval},y_eval,batch_size=10,num_epochs=1000,shuffle=False)"
   ]
  },
  {
   "cell_type": "code",
   "execution_count": 17,
   "metadata": {},
   "outputs": [
    {
     "name": "stdout",
     "output_type": "stream",
     "text": [
      "INFO:tensorflow:Create CheckpointSaverHook.\n",
      "INFO:tensorflow:Saving checkpoints for 1 into /var/folders/6x/yc_cph6n1g7_j3sqvv0tgrx40000gn/T/tmpnlr_jynv/model.ckpt.\n",
      "INFO:tensorflow:loss = 829.2766, step = 1\n",
      "INFO:tensorflow:global_step/sec: 965.02\n",
      "INFO:tensorflow:loss = 39.849136, step = 101 (0.104 sec)\n",
      "INFO:tensorflow:global_step/sec: 1174.04\n",
      "INFO:tensorflow:loss = 28.085627, step = 201 (0.085 sec)\n",
      "INFO:tensorflow:global_step/sec: 1171.99\n",
      "INFO:tensorflow:loss = 13.786981, step = 301 (0.085 sec)\n",
      "INFO:tensorflow:global_step/sec: 1129.64\n",
      "INFO:tensorflow:loss = 20.780777, step = 401 (0.089 sec)\n",
      "INFO:tensorflow:global_step/sec: 1134.71\n",
      "INFO:tensorflow:loss = 27.024998, step = 501 (0.088 sec)\n",
      "INFO:tensorflow:global_step/sec: 1187.68\n",
      "INFO:tensorflow:loss = 18.335108, step = 601 (0.084 sec)\n",
      "INFO:tensorflow:global_step/sec: 1169.02\n",
      "INFO:tensorflow:loss = 11.146683, step = 701 (0.086 sec)\n",
      "INFO:tensorflow:global_step/sec: 1113.83\n",
      "INFO:tensorflow:loss = 13.5304, step = 801 (0.090 sec)\n",
      "INFO:tensorflow:global_step/sec: 1035.53\n",
      "INFO:tensorflow:loss = 12.689059, step = 901 (0.096 sec)\n",
      "INFO:tensorflow:Saving checkpoints for 1000 into /var/folders/6x/yc_cph6n1g7_j3sqvv0tgrx40000gn/T/tmpnlr_jynv/model.ckpt.\n",
      "INFO:tensorflow:Loss for final step: 10.954106.\n"
     ]
    },
    {
     "data": {
      "text/plain": [
       "<tensorflow.python.estimator.canned.linear.LinearRegressor at 0x182cac8780>"
      ]
     },
     "execution_count": 17,
     "metadata": {},
     "output_type": "execute_result"
    }
   ],
   "source": [
    "estimator.train(input_func,steps=1000)"
   ]
  },
  {
   "cell_type": "code",
   "execution_count": 18,
   "metadata": {},
   "outputs": [
    {
     "name": "stdout",
     "output_type": "stream",
     "text": [
      "INFO:tensorflow:Starting evaluation at 2018-03-12-03:40:16\n",
      "INFO:tensorflow:Restoring parameters from /var/folders/6x/yc_cph6n1g7_j3sqvv0tgrx40000gn/T/tmpnlr_jynv/model.ckpt-1000\n",
      "INFO:tensorflow:Evaluation [100/1000]\n",
      "INFO:tensorflow:Evaluation [200/1000]\n",
      "INFO:tensorflow:Evaluation [300/1000]\n",
      "INFO:tensorflow:Evaluation [400/1000]\n",
      "INFO:tensorflow:Evaluation [500/1000]\n",
      "INFO:tensorflow:Evaluation [600/1000]\n",
      "INFO:tensorflow:Evaluation [700/1000]\n",
      "INFO:tensorflow:Evaluation [800/1000]\n",
      "INFO:tensorflow:Evaluation [900/1000]\n",
      "INFO:tensorflow:Evaluation [1000/1000]\n",
      "INFO:tensorflow:Finished evaluation at 2018-03-12-03:40:16\n",
      "INFO:tensorflow:Saving dict for global step 1000: average_loss = 1.1214184, global_step = 1000, loss = 11.214184\n"
     ]
    }
   ],
   "source": [
    "train_metrics=estimator.evaluate(train_input_func,steps=1000)"
   ]
  },
  {
   "cell_type": "code",
   "execution_count": 19,
   "metadata": {},
   "outputs": [
    {
     "name": "stdout",
     "output_type": "stream",
     "text": [
      "INFO:tensorflow:Starting evaluation at 2018-03-12-03:40:49\n",
      "INFO:tensorflow:Restoring parameters from /var/folders/6x/yc_cph6n1g7_j3sqvv0tgrx40000gn/T/tmpnlr_jynv/model.ckpt-1000\n",
      "INFO:tensorflow:Evaluation [100/1000]\n",
      "INFO:tensorflow:Evaluation [200/1000]\n",
      "INFO:tensorflow:Evaluation [300/1000]\n",
      "INFO:tensorflow:Evaluation [400/1000]\n",
      "INFO:tensorflow:Evaluation [500/1000]\n",
      "INFO:tensorflow:Evaluation [600/1000]\n",
      "INFO:tensorflow:Evaluation [700/1000]\n",
      "INFO:tensorflow:Evaluation [800/1000]\n",
      "INFO:tensorflow:Evaluation [900/1000]\n",
      "INFO:tensorflow:Evaluation [1000/1000]\n",
      "INFO:tensorflow:Finished evaluation at 2018-03-12-03:40:50\n",
      "INFO:tensorflow:Saving dict for global step 1000: average_loss = 1.1199377, global_step = 1000, loss = 11.199377\n"
     ]
    }
   ],
   "source": [
    "eval_metrics=estimator.evaluate(test_input_func,steps=1000)"
   ]
  },
  {
   "cell_type": "code",
   "execution_count": 21,
   "metadata": {},
   "outputs": [
    {
     "name": "stdout",
     "output_type": "stream",
     "text": [
      "INFO:tensorflow:Restoring parameters from /var/folders/6x/yc_cph6n1g7_j3sqvv0tgrx40000gn/T/tmpnlr_jynv/model.ckpt-1000\n"
     ]
    },
    {
     "data": {
      "text/plain": [
       "[{'predictions': array([4.3370953], dtype=float32)},\n",
       " {'predictions': array([5.012759], dtype=float32)},\n",
       " {'predictions': array([5.688423], dtype=float32)},\n",
       " {'predictions': array([6.3640866], dtype=float32)},\n",
       " {'predictions': array([7.0397506], dtype=float32)},\n",
       " {'predictions': array([7.715414], dtype=float32)},\n",
       " {'predictions': array([8.391078], dtype=float32)},\n",
       " {'predictions': array([9.066742], dtype=float32)},\n",
       " {'predictions': array([9.742406], dtype=float32)},\n",
       " {'predictions': array([10.41807], dtype=float32)}]"
      ]
     },
     "execution_count": 21,
     "metadata": {},
     "output_type": "execute_result"
    }
   ],
   "source": [
    "pred_input_func=tf.estimator.inputs.numpy_input_fn({'x':np.linspace(0,10,10)},shuffle=False)\n",
    "list(estimator.predict(pred_input_func))"
   ]
  },
  {
   "cell_type": "code",
   "execution_count": 23,
   "metadata": {},
   "outputs": [
    {
     "name": "stdout",
     "output_type": "stream",
     "text": [
      "INFO:tensorflow:Restoring parameters from /var/folders/6x/yc_cph6n1g7_j3sqvv0tgrx40000gn/T/tmpnlr_jynv/model.ckpt-1000\n"
     ]
    }
   ],
   "source": [
    "predictions = []# np.array([])\n",
    "for x in estimator.predict(input_fn=pred_input_func):\n",
    "    predictions.append(x['predictions'])"
   ]
  },
  {
   "cell_type": "code",
   "execution_count": 24,
   "metadata": {},
   "outputs": [
    {
     "data": {
      "text/plain": [
       "[array([4.3370953], dtype=float32),\n",
       " array([5.012759], dtype=float32),\n",
       " array([5.688423], dtype=float32),\n",
       " array([6.3640866], dtype=float32),\n",
       " array([7.0397506], dtype=float32),\n",
       " array([7.715414], dtype=float32),\n",
       " array([8.391078], dtype=float32),\n",
       " array([9.066742], dtype=float32),\n",
       " array([9.742406], dtype=float32),\n",
       " array([10.41807], dtype=float32)]"
      ]
     },
     "execution_count": 24,
     "metadata": {},
     "output_type": "execute_result"
    }
   ],
   "source": [
    "predictions"
   ]
  },
  {
   "cell_type": "code",
   "execution_count": 29,
   "metadata": {},
   "outputs": [
    {
     "data": {
      "text/plain": [
       "[<matplotlib.lines.Line2D at 0x1a3c426860>]"
      ]
     },
     "execution_count": 29,
     "metadata": {},
     "output_type": "execute_result"
    },
    {
     "data": {
      "image/png": "[encoded data removed]",
      "text/plain": [
       "<matplotlib.figure.Figure at 0x1a3c426be0>"
      ]
     },
     "metadata": {},
     "output_type": "display_data"
    }
   ],
   "source": [
    "my_df.sample(250).plot(x='X data',y='Y true',kind='scatter')\n",
    "plt.plot(np.linspace(0,10,10),predictions,'r')"
   ]
  },
  {
   "cell_type": "code",
   "execution_count": null,
   "metadata": {},
   "outputs": [],
   "source": []
  }
 ],
 "metadata": {
  "kernelspec": {
   "display_name": "Python 3",
   "language": "python",
   "name": "python3"
  },
  "language_info": {
   "codemirror_mode": {
    "name": "ipython",
    "version": 3
   },
   "file_extension": ".py",
   "mimetype": "text/x-python",
   "name": "python",
   "nbconvert_exporter": "python",
   "pygments_lexer": "ipython3",
   "version": "3.6.4"
  }
 },
 "nbformat": 4,
 "nbformat_minor": 2
}
